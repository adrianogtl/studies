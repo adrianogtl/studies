{
 "cells": [
  {
   "cell_type": "markdown",
   "id": "617155c9",
   "metadata": {},
   "source": [
    "# Automação Web e Busca de Informações com Python\n",
    "\n",
    "#### Desafio: \n",
    "\n",
    "Trabalhamos em uma importadora e compramos e vendemos commodities:\n",
    "- Soja, Milho, Trigo, Petróleo, etc.\n",
    "\n",
    "Precisamos pegar na internet, de forma automática, a cotação de todas as commodites e ver se ela está abaixo do nosso preço ideal de compra. Se tiver, precisamos marcar como uma ação de compra para a equipe de operações.\n",
    "\n",
    "Base de Dados: https://drive.google.com/drive/folders/1KmAdo593nD8J9QBaZxPOG1yxHZua4Rtv?usp=share_link\n",
    "\n",
    "Para isso, vamos criar uma automação web:\n",
    "\n",
    "- Usaremos o selenium\n",
    "- Importante: baixar o webdriver"
   ]
  },
  {
   "cell_type": "code",
   "execution_count": 96,
   "id": "020de958",
   "metadata": {},
   "outputs": [],
   "source": [
    "from selenium import webdriver as wd\n",
    "# .click() -> clica\n",
    "# .send_keys(\"\") -> escreve\n",
    "# .get_attribute() -> pega um valor\n",
    "\n",
    "# Abrir o navegador\n",
    "navegador = wd.Firefox()"
   ]
  },
  {
   "cell_type": "code",
   "execution_count": 97,
   "id": "30957a41",
   "metadata": {},
   "outputs": [],
   "source": [
    "# Importar a base de dados\n",
    "import pandas as pd\n",
    "tabela = pd.read_excel(\"commodities.xlsx\")"
   ]
  },
  {
   "cell_type": "code",
   "execution_count": 98,
   "id": "62682622",
   "metadata": {},
   "outputs": [],
   "source": [
    "# Pesquisar o preço\n",
    "for linha in tabela.index:\n",
    "    produto = tabela.loc[linha, \"Produto\"]\n",
    "    produto = produto.replace(\"ã\", \"a\").replace(\"á\", \"a\").replace(\"é\", \"e\").replace(\"ó\", \"o\").replace(\"ú\", \"u\").replace(\"ç\", \"c\")\n",
    "    link = f\"https://www.melhorcambio.com/{produto.lower()}-hoje\"\n",
    "    navegador.get(link)\n",
    "    preco = navegador.find_element('xpath', '//*[@id=\"comercial\"]').get_attribute('value')\n",
    "    preco = preco.replace(\".\", \"\").replace(\",\", \".\")\n",
    "\n",
    "    # Atualizar o preço na base de dados\n",
    "    tabela.loc[linha, \"Preço Atual\"] = float(preco)"
   ]
  },
  {
   "cell_type": "code",
   "execution_count": 99,
   "id": "19b2c47d",
   "metadata": {},
   "outputs": [],
   "source": [
    "# Decidir quais produtos comprar\n",
    "tabela[\"Comprar\"] = tabela[\"Preço Atual\"] < tabela[\"Preço Ideal\"]"
   ]
  },
  {
   "cell_type": "code",
   "execution_count": 100,
   "id": "f97cb6db",
   "metadata": {},
   "outputs": [],
   "source": [
    "\n",
    "# Exportar a base de dados\n",
    "tabela.to_excel(\"commodities_atualizado.xlsx\", index=False)"
   ]
  },
  {
   "cell_type": "code",
   "execution_count": null,
   "id": "0ae1eb0c",
   "metadata": {},
   "outputs": [],
   "source": [
    "# Fechar o navegador\n",
    "navegador.quit()"
   ]
  }
 ],
 "metadata": {
  "kernelspec": {
   "display_name": "Python 3 (ipykernel)",
   "language": "python",
   "name": "python3"
  },
  "language_info": {
   "codemirror_mode": {
    "name": "ipython",
    "version": 3
   },
   "file_extension": ".py",
   "mimetype": "text/x-python",
   "name": "python",
   "nbconvert_exporter": "python",
   "pygments_lexer": "ipython3",
   "version": "3.8.10"
  }
 },
 "nbformat": 4,
 "nbformat_minor": 5
}
