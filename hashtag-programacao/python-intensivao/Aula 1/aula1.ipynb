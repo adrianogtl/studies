{
 "cells": [
  {
   "cell_type": "code",
   "execution_count": 5,
   "metadata": {},
   "outputs": [],
   "source": [
    "# import pyautogui as pag\n",
    "# import time\n",
    "# time.sleep(5)\n",
    "# print(pag.position())         "
   ]
  },
  {
   "cell_type": "code",
   "execution_count": 6,
   "metadata": {},
   "outputs": [],
   "source": [
    "import pyautogui as pag\n",
    "import time\n",
    "\n",
    "pag.PAUSE = 1\n",
    "# Open firefox\n",
    "pag.press(\"win\")\n",
    "pag.click(x=2870, y=67)\n",
    "pag.write(\"firefox\")\n",
    "pag.press(\"enter\")\n",
    "##pag.hotkey(\"ctrl\", \"t\") if theres a open tab in firefox already\n",
    "\n",
    "# Type the url\n",
    "pag.write(\"https://pages.hashtagtreinamentos.com/aula1-intensivao-sistema\")\n",
    "pag.press(\"enter\")\n",
    "time.sleep(5)\n",
    "\n",
    "# login\n",
    "pag.click(x=2806, y=381) # go to login box\n",
    "pag.write(\"usuario\")\n",
    "pag.click(x=2791, y=474) # go to password box\n",
    "pag.write(\"senha\")\n",
    "pag.click(x=2866, y=541) # go to submit box\n",
    "time.sleep(5)\n",
    "\n",
    "# download\n",
    "pag.click(x=2275, y=314, button=\"right\")\n",
    "pag.click(x=2344, y=785) # download button\n",
    "time.sleep(3)\n",
    "pag.click(x=3405, y=143) # save file"
   ]
  },
  {
   "cell_type": "code",
   "execution_count": 7,
   "metadata": {},
   "outputs": [],
   "source": [
    "# calc\n",
    "import pandas as pd\n",
    "table = pd.read_csv(\"/home/adriano/Downloads/Compras.csv\", sep=\";\")\n",
    "total = table[\"ValorFinal\"].str.replace(',','.')\n",
    "spent = total.astype(float).sum()\n",
    "amount = table[\"Quantidade\"].sum()\n",
    "average = spent / amount"
   ]
  },
  {
   "cell_type": "code",
   "execution_count": 8,
   "metadata": {},
   "outputs": [],
   "source": [
    "# email\n",
    "import pyperclip as pc\n",
    "pag.click(x=2219, y=91)\n",
    "pag.write(\"https://mail.google.com/mail/u/0/#inbox\")\n",
    "pag.press(\"enter\")\n",
    "time.sleep(3)\n",
    "pag.click(x=1988, y=207) # compose email\n",
    "pag.write(\"adrianogtlopes@gmail.com\")\n",
    "pag.press(\"enter\") # confirm\n",
    "pag.press(\"tab\") # change box\n",
    "pc.copy(\"Relatório\")\n",
    "pag.hotkey(\"ctrl\", \"v\")\n",
    "pag.press(\"tab\") # change box\n",
    "text = f\"\"\"\n",
    "Prezados,\n",
    "Segue o relatório de compras\n",
    "\n",
    "Total Gasto: R${spent:,.2f}\n",
    "Quantidade de Produtos: R${amount:,.2f}\n",
    "Preço Médio: R${average:,.2f}\n",
    "\n",
    "Qualquer dúvida, é só falar.\n",
    "Att., Adriano Garcia\n",
    "\"\"\"\n",
    "pc.copy(text)\n",
    "pag.hotkey(\"ctrl\", \"v\")\n",
    "pag.hotkey(\"ctrl\", \"enter\")\n"
   ]
  }
 ],
 "metadata": {
  "kernelspec": {
   "display_name": "base",
   "language": "python",
   "name": "python3"
  },
  "language_info": {
   "codemirror_mode": {
    "name": "ipython",
    "version": 3
   },
   "file_extension": ".py",
   "mimetype": "text/x-python",
   "name": "python",
   "nbconvert_exporter": "python",
   "pygments_lexer": "ipython3",
   "version": "3.9.13"
  },
  "orig_nbformat": 4
 },
 "nbformat": 4,
 "nbformat_minor": 2
}
